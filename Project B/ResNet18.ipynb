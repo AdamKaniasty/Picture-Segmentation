{
 "cells": [
  {
   "cell_type": "markdown",
   "metadata": {},
   "source": [
    "<h1>Import Nessesary Libraries</h1>"
   ]
  },
  {
   "cell_type": "code",
   "execution_count": 6,
   "metadata": {},
   "outputs": [],
   "source": [
    "import torch\n",
    "from torchvision import datasets, models, transforms\n",
    "import torch.nn as nn\n",
    "from torch.nn import functional as F\n",
    "import torch.optim as optim\n",
    "import numpy as np\n",
    "%matplotlib inline\n",
    "import matplotlib.pyplot as plt\n",
    "from PIL import Image"
   ]
  },
  {
   "cell_type": "markdown",
   "metadata": {},
   "source": [
    "<h1>Create Dataloaders</h1>"
   ]
  },
  {
   "cell_type": "code",
   "execution_count": 7,
   "metadata": {},
   "outputs": [],
   "source": [
    "normalize = transforms.Normalize(mean=[0.485, 0.456, 0.406],\n",
    "                                 std=[0.229, 0.224, 0.225])\n",
    "\n",
    "data_transforms = {\n",
    "    'train':\n",
    "    transforms.Compose([\n",
    "        transforms.Resize((224,224)),\n",
    "        transforms.RandomAffine(0, shear=10, scale=(0.8,1.2)),\n",
    "        transforms.RandomHorizontalFlip(),\n",
    "        transforms.ToTensor(),\n",
    "        normalize\n",
    "    ]),\n",
    "    'validation':\n",
    "    transforms.Compose([\n",
    "        transforms.Resize((10,10)),\n",
    "        transforms.ToTensor(),\n",
    "        normalize\n",
    "    ]),\n",
    "}\n",
    "\n",
    "image_datasets = {\n",
    "    'train': \n",
    "    datasets.ImageFolder('data/train', data_transforms['train']),\n",
    "    'validation': \n",
    "    datasets.ImageFolder('data/validation', data_transforms['validation'])\n",
    "}\n",
    "\n",
    "dataloaders = {\n",
    "    'train':\n",
    "    torch.utils.data.DataLoader(image_datasets['train'],\n",
    "                                batch_size=32,\n",
    "                                shuffle=True, num_workers=4),\n",
    "    'validation':\n",
    "    torch.utils.data.DataLoader(image_datasets['validation'],\n",
    "                                batch_size=32,\n",
    "                                shuffle=False, num_workers=4)\n",
    "}"
   ]
  },
  {
   "cell_type": "markdown",
   "metadata": {},
   "source": [
    "<h1>Model setup</h1>"
   ]
  },
  {
   "cell_type": "code",
   "execution_count": 8,
   "metadata": {},
   "outputs": [],
   "source": [
    "device = torch.device(\"cuda:0\")\n",
    "model = models.resnet18(pretrained=True).to(device)\n",
    "    \n",
    "for param in model.parameters():\n",
    "    param.requires_grad = False   \n",
    "    \n",
    "model.fc = nn.Sequential(\n",
    "               nn.Linear(512, 2)).to(device)\n",
    "criterion = nn.CrossEntropyLoss()\n",
    "optimizer = optim.Adam(model.fc.parameters(),lr=0.001)"
   ]
  },
  {
   "cell_type": "markdown",
   "metadata": {},
   "source": [
    "<h1>Train model</h1>"
   ]
  },
  {
   "cell_type": "code",
   "execution_count": 9,
   "metadata": {},
   "outputs": [
    {
     "name": "stdout",
     "output_type": "stream",
     "text": [
      "Epoch 1/10\n",
      "----------\n",
      "train loss: 0.5998, acc: 0.6567\n",
      "validation loss: 0.6609, acc: 0.6154\n",
      "new best model\n",
      "Epoch 2/10\n",
      "----------\n",
      "train loss: 0.3200, acc: 0.9399\n",
      "validation loss: 0.6048, acc: 0.5385\n",
      "new best model\n",
      "Epoch 3/10\n",
      "----------\n",
      "train loss: 0.1917, acc: 0.9657\n",
      "validation loss: 0.5785, acc: 0.5385\n",
      "new best model\n",
      "Epoch 4/10\n",
      "----------\n",
      "train loss: 0.1202, acc: 0.9871\n",
      "validation loss: 0.5503, acc: 0.5385\n",
      "new best model\n",
      "Epoch 5/10\n",
      "----------\n",
      "train loss: 0.0929, acc: 0.9957\n",
      "validation loss: 0.5343, acc: 0.6154\n",
      "new best model\n",
      "Epoch 6/10\n",
      "----------\n",
      "train loss: 0.0782, acc: 0.9957\n",
      "validation loss: 0.5193, acc: 0.6923\n",
      "new best model\n",
      "Epoch 7/10\n",
      "----------\n",
      "train loss: 0.0493, acc: 1.0000\n",
      "validation loss: 0.5041, acc: 0.6923\n",
      "new best model\n",
      "Epoch 8/10\n",
      "----------\n",
      "train loss: 0.0473, acc: 1.0000\n",
      "validation loss: 0.4924, acc: 0.6923\n",
      "new best model\n",
      "Epoch 9/10\n",
      "----------\n",
      "train loss: 0.0455, acc: 0.9957\n",
      "validation loss: 0.4885, acc: 0.7692\n",
      "new best model\n",
      "Epoch 10/10\n",
      "----------\n",
      "train loss: 0.0389, acc: 1.0000\n",
      "validation loss: 0.4804, acc: 0.8462\n",
      "new best model\n"
     ]
    }
   ],
   "source": [
    "from copy import deepcopy\n",
    "\n",
    "def train_model(model, criterion, optimizer, num_epochs=10):\n",
    "    best_loss = np.infty\n",
    "    early_stop_count = 0\n",
    "    best_model = deepcopy(model)\n",
    "    for epoch in range(num_epochs):\n",
    "        print('Epoch {}/{}'.format(epoch+1, num_epochs))\n",
    "        print('-' * 10)\n",
    "\n",
    "        for phase in ['train', 'validation']:\n",
    "            if phase == 'train':\n",
    "                model.train()\n",
    "            else:\n",
    "                model.eval()\n",
    "\n",
    "            running_loss = 0.0\n",
    "            running_corrects = 0\n",
    "\n",
    "            for inputs, labels in dataloaders[phase]:\n",
    "                inputs = inputs.to(device)\n",
    "                labels = labels.to(device)\n",
    "\n",
    "                outputs = model(inputs)\n",
    "                loss = criterion(outputs, labels)\n",
    "\n",
    "                if phase == 'train':\n",
    "                    optimizer.zero_grad()\n",
    "                    loss.backward()\n",
    "                    optimizer.step()\n",
    "\n",
    "                _, preds = torch.max(outputs, 1)\n",
    "                running_loss += loss.detach() * inputs.size(0)\n",
    "                running_corrects += torch.sum(preds == labels.data)\n",
    "\n",
    "            epoch_loss = running_loss / len(image_datasets[phase])\n",
    "            epoch_acc = running_corrects.float() / len(image_datasets[phase])\n",
    "\n",
    "            print('{} loss: {:.4f}, acc: {:.4f}'.format(phase,\n",
    "                                                        epoch_loss.item(),\n",
    "                                                        epoch_acc.item()))\n",
    "        if epoch_loss.item() < best_loss:\n",
    "            print('new best model')\n",
    "            best_loss = epoch_loss.item()\n",
    "            best_model = deepcopy(model)\n",
    "            early_stop_count = 0\n",
    "        else:\n",
    "            early_stop_count += 1\n",
    "        if early_stop_count >= 100:\n",
    "            print('no improvement, training stopped')\n",
    "            break\n",
    "    return best_model\n",
    "\n",
    "model_trained = train_model(model, criterion, optimizer, num_epochs=10)"
   ]
  },
  {
   "cell_type": "markdown",
   "metadata": {},
   "source": [
    "<h1>Save model</h1>"
   ]
  },
  {
   "cell_type": "code",
   "execution_count": 10,
   "metadata": {},
   "outputs": [],
   "source": [
    "torch.save(model_trained.state_dict(), 'weights.h5')"
   ]
  }
 ],
 "metadata": {
  "kernelspec": {
   "display_name": "Python 3",
   "language": "python",
   "name": "python3"
  },
  "language_info": {
   "codemirror_mode": {
    "name": "ipython",
    "version": 3
   },
   "file_extension": ".py",
   "mimetype": "text/x-python",
   "name": "python",
   "nbconvert_exporter": "python",
   "pygments_lexer": "ipython3",
   "version": "3.7.4"
  }
 },
 "nbformat": 4,
 "nbformat_minor": 4
}
