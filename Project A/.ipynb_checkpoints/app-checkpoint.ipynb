{
 "cells": [
  {
   "cell_type": "code",
   "execution_count": 1,
   "metadata": {},
   "outputs": [],
   "source": [
    "import cv2\n",
    "import numpy as np\n",
    "import joblib\n",
    "import matplotlib.pyplot as plt\n",
    "from PIL import Image\n",
    "import PIL\n",
    "%matplotlib inline\n",
    "import torch\n",
    "from torchvision import datasets, models, transforms\n",
    "import torch.nn as nn\n",
    "from torch.nn import functional as F\n",
    "import torch.optim as optim"
   ]
  },
  {
   "cell_type": "code",
   "execution_count": 2,
   "metadata": {},
   "outputs": [],
   "source": [
    "import os"
   ]
  },
  {
   "cell_type": "code",
   "execution_count": 3,
   "metadata": {},
   "outputs": [],
   "source": [
    "from sklearn.ensemble import RandomForestClassifier\n",
    "from sklearn.datasets import make_classification"
   ]
  },
  {
   "cell_type": "code",
   "execution_count": 4,
   "metadata": {},
   "outputs": [],
   "source": [
    "img = Image.open('Przechwytywanie.PNG').convert(\"RGB\")\n",
    "x,y=img.size\n",
    "final_matrix = np.zeros((x,y,3), dtype=np.uint8)\n",
    "pix = img.load()"
   ]
  },
  {
   "cell_type": "code",
   "execution_count": 5,
   "metadata": {},
   "outputs": [],
   "source": [
    "clf = joblib.load(\"model\")\n",
    "pixel=[]\n",
    "list_of_colors = [[4,86,22], [4,50,14], [128,128,128],[255,255,153]]\n",
    "matrix = np.zeros( (x,y,3), dtype=np.uint8 ) ## creating array black image\n",
    "matrix_test = np.ones( (x,y,3), dtype=np.uint8 )\n",
    "template=np.zeros( (x,y), dtype=np.uint8 )\n",
    "template_final=np.zeros( (x,y), dtype=np.uint8 )"
   ]
  },
  {
   "cell_type": "code",
   "execution_count": 6,
   "metadata": {},
   "outputs": [],
   "source": [
    "for i in range (0,x,1):\n",
    "    for j in range (0,y,1): \n",
    "        pixel.append(pix[i,j])"
   ]
  },
  {
   "cell_type": "code",
   "execution_count": 7,
   "metadata": {},
   "outputs": [],
   "source": [
    "output=clf.predict(pixel)"
   ]
  },
  {
   "cell_type": "code",
   "execution_count": 8,
   "metadata": {},
   "outputs": [],
   "source": [
    "iterator=0\n",
    "for i in range (0,x,1):\n",
    "    for j in range (0,y,1):\n",
    "        template[ i, j]=output[iterator]\n",
    "        iterator+=1"
   ]
  },
  {
   "cell_type": "code",
   "execution_count": 14,
   "metadata": {},
   "outputs": [],
   "source": [
    "step=10"
   ]
  },
  {
   "cell_type": "code",
   "execution_count": null,
   "metadata": {},
   "outputs": [],
   "source": [
    "temp=np.zeros(5)\n",
    "for i in range (0,x,1):\n",
    "    for j in range (0,y,1):\n",
    "        for i2 in range (max(i-step,0),min(i+step,x),1):\n",
    "            for j2 in range (max(j-step,0),min(j+step,y),1):\n",
    "                temp[template[i2,j2]]=temp[template[i2,j2]]+1 \n",
    "        result=temp.argmax()\n",
    "        template_final[i,j]=result\n",
    "        temp=np.zeros(5)\n",
    "for i in range (0,x,1):\n",
    "    for j in range (0,y,1):\n",
    "        matrix[i,j]=list_of_colors[template_final[i,j]]\n",
    "        matrix_test[i,j]=list_of_colors[template[i,j]]"
   ]
  },
  {
   "cell_type": "code",
   "execution_count": null,
   "metadata": {},
   "outputs": [],
   "source": [
    "img = Image.fromarray(matrix)\n",
    "img=img.rotate(-90, Image.NEAREST, expand = 1)\n",
    "img= img.transpose(PIL.Image.FLIP_LEFT_RIGHT)\n",
    "plt.imshow(img)"
   ]
  },
  {
   "cell_type": "code",
   "execution_count": null,
   "metadata": {},
   "outputs": [],
   "source": [
    "img = Image.fromarray(matrix_test)\n",
    "img=img.rotate(-90, Image.NEAREST, expand = 1)\n",
    "img= img.transpose(PIL.Image.FLIP_LEFT_RIGHT)\n",
    "plt.imshow(img)"
   ]
  },
  {
   "cell_type": "code",
   "execution_count": null,
   "metadata": {},
   "outputs": [],
   "source": []
  }
 ],
 "metadata": {
  "kernelspec": {
   "display_name": "Python 3",
   "language": "python",
   "name": "python3"
  },
  "language_info": {
   "codemirror_mode": {
    "name": "ipython",
    "version": 3
   },
   "file_extension": ".py",
   "mimetype": "text/x-python",
   "name": "python",
   "nbconvert_exporter": "python",
   "pygments_lexer": "ipython3",
   "version": "3.7.4"
  }
 },
 "nbformat": 4,
 "nbformat_minor": 4
}
